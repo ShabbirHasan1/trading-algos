{
 "cells": [
  {
   "cell_type": "markdown",
   "id": "3aef3567",
   "metadata": {},
   "source": [
    "# Demo: Backtesting Quantitative Trading Algorithms"
   ]
  },
  {
   "cell_type": "code",
   "execution_count": 1,
   "id": "c47dfd58",
   "metadata": {},
   "outputs": [],
   "source": [
    "import numpy as np\n",
    "import pandas as pd\n",
    "import matplotlib.pyplot as plt\n",
    "import talib                    # TA-lib => Technical Analysis library (indicators)\n",
    "from abc import ABC             # ABC => abstract base class"
   ]
  },
  {
   "cell_type": "markdown",
   "id": "66004455",
   "metadata": {},
   "source": [
    "### Load 1Y of BTC and ETH Data"
   ]
  },
  {
   "cell_type": "code",
   "execution_count": 2,
   "id": "78043337",
   "metadata": {},
   "outputs": [],
   "source": [
    "def clean_price(p):\n",
    "    return float(p.replace(',',''))\n",
    "\n",
    "def read_bars(barpath):\n",
    "    df = pd.read_csv(barpath)\n",
    "    df['Date'] = pd.to_datetime(df['Date'])\n",
    "    for col in ['Open', 'High', 'Low', 'Close']:\n",
    "        df[col] = df[col].apply(clean_price)\n",
    "    df = df.sort_values('Date').reset_index(drop=True)\n",
    "    return df"
   ]
  },
  {
   "cell_type": "code",
   "execution_count": 3,
   "id": "56dab157",
   "metadata": {},
   "outputs": [],
   "source": [
    "df_btc = read_bars(\"data/BTCUSD_daily_bars.csv\")\n",
    "df_eth = read_bars(\"data/ETHUSD_daily_bars.csv\")"
   ]
  },
  {
   "cell_type": "code",
   "execution_count": 4,
   "id": "5844752d",
   "metadata": {},
   "outputs": [
    {
     "data": {
      "text/html": [
       "<div>\n",
       "<style scoped>\n",
       "    .dataframe tbody tr th:only-of-type {\n",
       "        vertical-align: middle;\n",
       "    }\n",
       "\n",
       "    .dataframe tbody tr th {\n",
       "        vertical-align: top;\n",
       "    }\n",
       "\n",
       "    .dataframe thead th {\n",
       "        text-align: right;\n",
       "    }\n",
       "</style>\n",
       "<table border=\"1\" class=\"dataframe\">\n",
       "  <thead>\n",
       "    <tr style=\"text-align: right;\">\n",
       "      <th></th>\n",
       "      <th>Date</th>\n",
       "      <th>Open</th>\n",
       "      <th>High</th>\n",
       "      <th>Low</th>\n",
       "      <th>Close</th>\n",
       "    </tr>\n",
       "  </thead>\n",
       "  <tbody>\n",
       "    <tr>\n",
       "      <th>0</th>\n",
       "      <td>2020-07-14</td>\n",
       "      <td>9256.0</td>\n",
       "      <td>9278.0</td>\n",
       "      <td>9135.0</td>\n",
       "      <td>9272.0</td>\n",
       "    </tr>\n",
       "    <tr>\n",
       "      <th>1</th>\n",
       "      <td>2020-07-15</td>\n",
       "      <td>9272.0</td>\n",
       "      <td>9277.0</td>\n",
       "      <td>9170.0</td>\n",
       "      <td>9216.0</td>\n",
       "    </tr>\n",
       "    <tr>\n",
       "      <th>2</th>\n",
       "      <td>2020-07-16</td>\n",
       "      <td>9216.0</td>\n",
       "      <td>9231.0</td>\n",
       "      <td>9051.0</td>\n",
       "      <td>9103.0</td>\n",
       "    </tr>\n",
       "    <tr>\n",
       "      <th>3</th>\n",
       "      <td>2020-07-17</td>\n",
       "      <td>9104.0</td>\n",
       "      <td>9185.0</td>\n",
       "      <td>8608.0</td>\n",
       "      <td>9159.0</td>\n",
       "    </tr>\n",
       "    <tr>\n",
       "      <th>4</th>\n",
       "      <td>2020-07-18</td>\n",
       "      <td>9159.0</td>\n",
       "      <td>9208.0</td>\n",
       "      <td>9131.0</td>\n",
       "      <td>9185.0</td>\n",
       "    </tr>\n",
       "  </tbody>\n",
       "</table>\n",
       "</div>"
      ],
      "text/plain": [
       "        Date    Open    High     Low   Close\n",
       "0 2020-07-14  9256.0  9278.0  9135.0  9272.0\n",
       "1 2020-07-15  9272.0  9277.0  9170.0  9216.0\n",
       "2 2020-07-16  9216.0  9231.0  9051.0  9103.0\n",
       "3 2020-07-17  9104.0  9185.0  8608.0  9159.0\n",
       "4 2020-07-18  9159.0  9208.0  9131.0  9185.0"
      ]
     },
     "execution_count": 4,
     "metadata": {},
     "output_type": "execute_result"
    }
   ],
   "source": [
    "df_btc.head()"
   ]
  },
  {
   "cell_type": "markdown",
   "id": "04720ce3",
   "metadata": {},
   "source": [
    "## Define Trading Algorithm(s)"
   ]
  },
  {
   "cell_type": "code",
   "execution_count": 5,
   "id": "e41490a4",
   "metadata": {},
   "outputs": [],
   "source": [
    "class tradingAlgo(ABC):\n",
    "    \"\"\"\n",
    "    Abstract base class defining trading algorithm methods\n",
    "    \"\"\"\n",
    "    \n",
    "    def __init__(self):\n",
    "        \"\"\"\n",
    "        Initialize algorithms by specifying hyperparameters\n",
    "        \"\"\"\n",
    "        pass\n",
    "    \n",
    "    def handle_data(self, data):\n",
    "        \"\"\"\n",
    "        Called every time a bar of data is pushed from the backtesting\n",
    "        or live trading API\n",
    "        \"\"\"\n",
    "        pass"
   ]
  },
  {
   "cell_type": "code",
   "execution_count": 6,
   "id": "544bed09",
   "metadata": {},
   "outputs": [],
   "source": [
    "class dualMovingAverageCrossover(tradingAlgo):\n",
    "    \"\"\"\n",
    "    Dual Moving Average Crossover trading algorithm \n",
    "    \n",
    "    Handles only 1 price ticker. Utilizes a short term simple\n",
    "    moving average and a long term simple moving average to \n",
    "    define bullish/bearish trend.\n",
    "    \"\"\"\n",
    "    \n",
    "    def __init__(self, short_lookback, long_lookback, time_of_bar='Close'):\n",
    "        \"\"\"\n",
    "        Initialize an instance of class dualMovingAverageCrossover\n",
    "        by specifying algorithm hyperparameters\n",
    "        \n",
    "        Parameters\n",
    "        ----------\n",
    "        short_lookback : int\n",
    "            Number of bars to lookback for short term moving average\n",
    "            \n",
    "        long_lookback : int\n",
    "            Number of bars to lookback for long term moving average\n",
    "            \n",
    "        time_of_bar : str from ['Open', 'High', 'Low', 'Close']\n",
    "            Time of OHCL bar data to use for indicators\n",
    "        \"\"\"\n",
    "        \n",
    "        self._short_lookback = short_lookback\n",
    "        self._long_lookback = long_lookback\n",
    "        self._time_of_bar = time_of_bar\n",
    "    \n",
    "    def handle_data(self, data):\n",
    "        \"\"\"\n",
    "        Called every time a bar of data is pushed from the backtesting\n",
    "        or live trading API\n",
    "        \n",
    "        Parameters\n",
    "        ----------\n",
    "        data : pd.DataFrame\n",
    "            OHCL price bars for the asset(s) of choice\n",
    "        \"\"\"\n",
    "        \n",
    "        px = data[self._time_of_bar].values\n",
    "        if len(px) < self._long_lookback + 1:\n",
    "            return 0\n",
    "        signal = self._generate_signal(px)\n",
    "        target = signal * 1.0\n",
    "        return target\n",
    "    \n",
    "    def _generate_signal(self, px):\n",
    "        \"\"\"\n",
    "        Generate trading signal given price data\n",
    "        \"\"\"\n",
    "        \n",
    "        sma = px[-self._short_lookback:].mean()\n",
    "        lma = px[-self._long_lookback:].mean()\n",
    "        if sma > lma:\n",
    "            return 1\n",
    "        else:\n",
    "            return 0"
   ]
  },
  {
   "cell_type": "markdown",
   "id": "9ca525f8",
   "metadata": {},
   "source": [
    "## Backtest Algorithm(s)"
   ]
  },
  {
   "cell_type": "code",
   "execution_count": 7,
   "id": "9988c8cd",
   "metadata": {},
   "outputs": [],
   "source": [
    "def run_backtest(df, algo, initial_val=10000, time_of_bar='Close'):\n",
    "    \"\"\"\n",
    "    Execute a backtest with historical data and an algorithm\n",
    "    \n",
    "    Parameters\n",
    "    ----------\n",
    "    df : pd.DataFrame\n",
    "        DataFrame with columns ['Date', 'Open', 'High', 'Close', 'Low']\n",
    "        It is expected that the dataframe is sorted by 'Date' in inceasing order\n",
    "        \n",
    "    algo : tradingAlgo\n",
    "        Trading algorithm to backtest\n",
    "    \"\"\"\n",
    "    \n",
    "    # Initialize data structures\n",
    "    n_shares = [0.0]\n",
    "    asset_val = [0.0]\n",
    "    cash_val = [initial_val]\n",
    "    portfolio_val = [asset_val[-1] + cash_val[-1]]\n",
    "    dates = [df.Date[0]]\n",
    "    \n",
    "    # Iterate through OHCL bars of data\n",
    "    for i in range(1, len(df)):\n",
    "\n",
    "        price = df.iloc[i][time_of_bar]\n",
    "        \n",
    "        # Find target allocation from algorithm\n",
    "        target = algo.handle_data(df.iloc[:i])\n",
    "        \n",
    "        # Take on target position, record result\n",
    "        if target == 0:\n",
    "            cash_val.append((n_shares[-1]*price) + cash_val[-1])\n",
    "            n_shares.append(0.0)\n",
    "        elif target == 1:\n",
    "            n_shares.append(n_shares[-1] + (cash_val[-1]/price))\n",
    "            cash_val.append(0.0)\n",
    "        else:\n",
    "            raise ValueError(\"Target between (0,1) not supported yet!\")\n",
    "        \n",
    "        asset_val.append(n_shares[-1] * price)\n",
    "        portfolio_val.append(asset_val[-1] + cash_val[-1])\n",
    "        dates.append(df.Date[i])\n",
    "        \n",
    "    return pd.DataFrame({'Date':dates, 'Cash Value':cash_val, \n",
    "                         'Asset Shares':n_shares, 'Asset Value':asset_val, \n",
    "                         'Portfolio Value':portfolio_val})"
   ]
  },
  {
   "cell_type": "code",
   "execution_count": 8,
   "id": "a42d1d76",
   "metadata": {},
   "outputs": [],
   "source": [
    "dma_crossover = dualMovingAverageCrossover(20, 50)\n",
    "result = run_backtest(df_btc, dma_crossover)"
   ]
  },
  {
   "cell_type": "code",
   "execution_count": 9,
   "id": "b9cce0a7",
   "metadata": {},
   "outputs": [
    {
     "data": {
      "text/html": [
       "<div>\n",
       "<style scoped>\n",
       "    .dataframe tbody tr th:only-of-type {\n",
       "        vertical-align: middle;\n",
       "    }\n",
       "\n",
       "    .dataframe tbody tr th {\n",
       "        vertical-align: top;\n",
       "    }\n",
       "\n",
       "    .dataframe thead th {\n",
       "        text-align: right;\n",
       "    }\n",
       "</style>\n",
       "<table border=\"1\" class=\"dataframe\">\n",
       "  <thead>\n",
       "    <tr style=\"text-align: right;\">\n",
       "      <th></th>\n",
       "      <th>Date</th>\n",
       "      <th>Cash Value</th>\n",
       "      <th>Asset Shares</th>\n",
       "      <th>Asset Value</th>\n",
       "      <th>Portfolio Value</th>\n",
       "    </tr>\n",
       "  </thead>\n",
       "  <tbody>\n",
       "    <tr>\n",
       "      <th>0</th>\n",
       "      <td>2020-07-14</td>\n",
       "      <td>10000.0</td>\n",
       "      <td>0.0</td>\n",
       "      <td>0.0</td>\n",
       "      <td>10000.0</td>\n",
       "    </tr>\n",
       "    <tr>\n",
       "      <th>1</th>\n",
       "      <td>2020-07-15</td>\n",
       "      <td>10000.0</td>\n",
       "      <td>0.0</td>\n",
       "      <td>0.0</td>\n",
       "      <td>10000.0</td>\n",
       "    </tr>\n",
       "    <tr>\n",
       "      <th>2</th>\n",
       "      <td>2020-07-16</td>\n",
       "      <td>10000.0</td>\n",
       "      <td>0.0</td>\n",
       "      <td>0.0</td>\n",
       "      <td>10000.0</td>\n",
       "    </tr>\n",
       "    <tr>\n",
       "      <th>3</th>\n",
       "      <td>2020-07-17</td>\n",
       "      <td>10000.0</td>\n",
       "      <td>0.0</td>\n",
       "      <td>0.0</td>\n",
       "      <td>10000.0</td>\n",
       "    </tr>\n",
       "    <tr>\n",
       "      <th>4</th>\n",
       "      <td>2020-07-18</td>\n",
       "      <td>10000.0</td>\n",
       "      <td>0.0</td>\n",
       "      <td>0.0</td>\n",
       "      <td>10000.0</td>\n",
       "    </tr>\n",
       "  </tbody>\n",
       "</table>\n",
       "</div>"
      ],
      "text/plain": [
       "        Date  Cash Value  Asset Shares  Asset Value  Portfolio Value\n",
       "0 2020-07-14     10000.0           0.0          0.0          10000.0\n",
       "1 2020-07-15     10000.0           0.0          0.0          10000.0\n",
       "2 2020-07-16     10000.0           0.0          0.0          10000.0\n",
       "3 2020-07-17     10000.0           0.0          0.0          10000.0\n",
       "4 2020-07-18     10000.0           0.0          0.0          10000.0"
      ]
     },
     "execution_count": 9,
     "metadata": {},
     "output_type": "execute_result"
    }
   ],
   "source": [
    "result.head()"
   ]
  },
  {
   "cell_type": "code",
   "execution_count": 10,
   "id": "3cf07a18",
   "metadata": {},
   "outputs": [
    {
     "data": {
      "image/png": "[encoded data removed]",
      "text/plain": [
       "<Figure size 1080x720 with 1 Axes>"
      ]
     },
     "metadata": {
      "needs_background": "light"
     },
     "output_type": "display_data"
    }
   ],
   "source": [
    "fig, ax = plt.subplots(figsize=(15, 10))\n",
    "ax.plot(result.Date, result['Portfolio Value'])\n",
    "ax.set_ylabel(\"Value ($)\")\n",
    "ax.set_xlabel(\"Date\");"
   ]
  }
 ],
 "metadata": {
  "kernelspec": {
   "display_name": "Python 3",
   "language": "python",
   "name": "python3"
  },
  "language_info": {
   "codemirror_mode": {
    "name": "ipython",
    "version": 3
   },
   "file_extension": ".py",
   "mimetype": "text/x-python",
   "name": "python",
   "nbconvert_exporter": "python",
   "pygments_lexer": "ipython3",
   "version": "3.8.8"
  }
 },
 "nbformat": 4,
 "nbformat_minor": 5
}
